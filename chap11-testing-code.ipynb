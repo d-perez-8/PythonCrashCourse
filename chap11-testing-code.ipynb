{
 "cells": [
  {
   "cell_type": "code",
   "execution_count": 1,
   "metadata": {},
   "outputs": [],
   "source": [
    "# 11-1 City, Country\n",
    "\n",
    "def get_city_country(city, country):\n",
    "    return(f\"{city.title()}, {country.title()}\")"
   ]
  },
  {
   "cell_type": "code",
   "execution_count": null,
   "metadata": {},
   "outputs": [],
   "source": [
    "import unittest\n",
    "from city_country import city_country\n",
    "\n",
    "class TestCityCountry(unittest.TestCase):\n",
    "    \"\"\" Test for city and country works correctly \"\"\"\n",
    "    def test_city_country(self):\n",
    "        \"\"\"Does 'Santiago, Chile' work?\"\"\"\n",
    "        formatted_city = city_country('santiago', 'chile')\n",
    "        self.assertEqual(formatted_city, 'Santiago, Chile')\n",
    "\n",
    "if __name__ == '__main__':\n",
    "    unittest.main()"
   ]
  },
  {
   "cell_type": "code",
   "execution_count": null,
   "metadata": {},
   "outputs": [],
   "source": [
    "# 11-2 Population\n",
    "\n",
    "def get_city_country(city, country, population=0):\n",
    "    output_string = f\"{city.title()}, {country.title()}\"\n",
    "    if population:\n",
    "        output_string += f' - population {population}'\n",
    "    return output_string"
   ]
  },
  {
   "cell_type": "code",
   "execution_count": null,
   "metadata": {},
   "outputs": [],
   "source": [
    "import unittest\n",
    "from city_country import get_city_country\n",
    "\n",
    "class TestCityCountry(unittest.TestCase):\n",
    "    \"\"\" Test for city and country correctly inputed \"\"\"\n",
    "    def test_city_country(self):\n",
    "        \"\"\"Does 'Santiago, Chile' work?\"\"\"\n",
    "        formatted_city = get_city_country('santiago', 'chile')\n",
    "        self.assertEqual(formatted_city, 'Santiago, Chile')\n",
    "\n",
    "    def test_city_country_population(self):\n",
    "        formatted = get_city_country('santiago', 'chile', population=500000)\n",
    "        self.assertEqual(formatted, 'Santiago, Chile - population 500000')\n",
    "\n",
    "if __name__ == '__main__':\n",
    "    unittest.main()"
   ]
  }
 ],
 "metadata": {
  "interpreter": {
   "hash": "aee8b7b246df8f9039afb4144a1f6fd8d2ca17a180786b69acc140d282b71a49"
  },
  "kernelspec": {
   "display_name": "Python 3.10.4 64-bit",
   "language": "python",
   "name": "python3"
  },
  "language_info": {
   "codemirror_mode": {
    "name": "ipython",
    "version": 3
   },
   "file_extension": ".py",
   "mimetype": "text/x-python",
   "name": "python",
   "nbconvert_exporter": "python",
   "pygments_lexer": "ipython3",
   "version": "3.10.4"
  },
  "orig_nbformat": 4
 },
 "nbformat": 4,
 "nbformat_minor": 2
}
