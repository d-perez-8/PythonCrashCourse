{
 "cells": [
  {
   "cell_type": "code",
   "execution_count": 54,
   "metadata": {},
   "outputs": [
    {
     "name": "stdout",
     "output_type": "stream",
     "text": [
      "Hello Kobe Bryant, you have been formally invited to Danny's dinner party.\n",
      "Hello Kareem Abdul-Jabbar, you have been formally invited to Danny's dinner party.\n",
      "Hello Muhammed Ali, you have been formally invited to Danny's dinner party.\n"
     ]
    }
   ],
   "source": [
    "# 3-4 Guest List\n",
    "\n",
    "invite = ['Kobe Bryant', 'Kareem Abdul-Jabbar', 'Muhammed Ali']\n",
    "\n",
    "for guest in invite:\n",
    "    print(f\"Hello {guest}, you have been formally invited to Danny's dinner party.\")"
   ]
  },
  {
   "cell_type": "code",
   "execution_count": 55,
   "metadata": {},
   "outputs": [
    {
     "name": "stdout",
     "output_type": "stream",
     "text": [
      "Hello Kareem Abdul-Jabbar, you have been formally invited to Danny's dinner party.\n",
      "Hello Muhammed Ali, you have been formally invited to Danny's dinner party.\n",
      "Hello Scarlet Johanson, you have been formally invited to Danny's dinner party.\n"
     ]
    }
   ],
   "source": [
    "# 3-5 Changing Guest List\n",
    "\n",
    "invite.remove('Kobe Bryant')\n",
    "invite.append('Scarlet Johanson')\n",
    "\n",
    "for guest in invite:\n",
    "    print(f\"Hello {guest}, you have been formally invited to Danny's dinner party.\")"
   ]
  },
  {
   "cell_type": "code",
   "execution_count": 56,
   "metadata": {},
   "outputs": [
    {
     "name": "stdout",
     "output_type": "stream",
     "text": [
      "Hello Leo DiCaprio, you have been formally invited to Danny's dinner party.\n",
      "Hello Jaime Fox, you have been formally invited to Danny's dinner party.\n",
      "Hello Kareem Abdul-Jabbar, you have been formally invited to Danny's dinner party.\n",
      "Hello Muhammed Ali, you have been formally invited to Danny's dinner party.\n",
      "Hello Scarlet Johanson, you have been formally invited to Danny's dinner party.\n",
      "Hello Jonah Hill, you have been formally invited to Danny's dinner party.\n"
     ]
    }
   ],
   "source": [
    "# 3-6 More Guests\n",
    "\n",
    "invite.insert(0, \"Leo DiCaprio\")\n",
    "invite.insert(1, 'Jaime Fox')\n",
    "invite.append('Jonah Hill')\n",
    "\n",
    "for guest in invite:\n",
    "    print(f\"Hello {guest}, you have been formally invited to Danny's dinner party.\")"
   ]
  },
  {
   "cell_type": "code",
   "execution_count": 57,
   "metadata": {},
   "outputs": [
    {
     "name": "stdout",
     "output_type": "stream",
     "text": [
      "Sorry Jonah Hill, there are not enough seats for thee.\n"
     ]
    }
   ],
   "source": [
    "# 3-7 Shrinking Guest List\n",
    "\n",
    "pop0 = invite.pop()\n",
    "print(f'Sorry {pop0}, there are not enough seats for thee.')"
   ]
  },
  {
   "cell_type": "code",
   "execution_count": 58,
   "metadata": {},
   "outputs": [
    {
     "name": "stdout",
     "output_type": "stream",
     "text": [
      "Sorry Scarlet Johanson, there are not enough seats for thee.\n"
     ]
    }
   ],
   "source": [
    "pop0 = invite.pop()\n",
    "print(f'Sorry {pop0}, there are not enough seats for thee.')"
   ]
  },
  {
   "cell_type": "code",
   "execution_count": 59,
   "metadata": {},
   "outputs": [
    {
     "name": "stdout",
     "output_type": "stream",
     "text": [
      "Sorry Muhammed Ali, there are not enough seats for thee.\n"
     ]
    }
   ],
   "source": [
    "pop0 = invite.pop()\n",
    "print(f'Sorry {pop0}, there are not enough seats for thee.')"
   ]
  },
  {
   "cell_type": "code",
   "execution_count": 60,
   "metadata": {},
   "outputs": [
    {
     "name": "stdout",
     "output_type": "stream",
     "text": [
      "Sorry Kareem Abdul-Jabbar, there are not enough seats for thee.\n"
     ]
    }
   ],
   "source": [
    "pop0 = invite.pop()\n",
    "print(f'Sorry {pop0}, there are not enough seats for thee.')"
   ]
  },
  {
   "cell_type": "code",
   "execution_count": 61,
   "metadata": {},
   "outputs": [
    {
     "name": "stdout",
     "output_type": "stream",
     "text": [
      "Hello Leo DiCaprio, you are still invited.\n",
      "Hello Jaime Fox, you are still invited.\n"
     ]
    }
   ],
   "source": [
    "for guest in invite:\n",
    "    print(f'Hello {guest}, you are still invited.')"
   ]
  },
  {
   "cell_type": "code",
   "execution_count": 62,
   "metadata": {},
   "outputs": [],
   "source": [
    "del invite[0]"
   ]
  },
  {
   "cell_type": "code",
   "execution_count": 64,
   "metadata": {},
   "outputs": [
    {
     "name": "stdout",
     "output_type": "stream",
     "text": [
      "[]\n"
     ]
    }
   ],
   "source": [
    "del invite[0]\n",
    "print(invite)"
   ]
  },
  {
   "cell_type": "code",
   "execution_count": 82,
   "metadata": {},
   "outputs": [
    {
     "name": "stdout",
     "output_type": "stream",
     "text": [
      "['France', 'China', 'Mexico', 'Iceland', 'Brazil']\n",
      "['Brazil', 'Iceland', 'Mexico', 'China', 'France']\n",
      "['France', 'China', 'Mexico', 'Iceland', 'Brazil']\n",
      "['Brazil', 'China', 'France', 'Iceland', 'Mexico']\n",
      "['Mexico', 'Iceland', 'France', 'China', 'Brazil']\n"
     ]
    }
   ],
   "source": [
    "# 3-8 Seeing the World\n",
    "\n",
    "places = ['France', 'China', 'Mexico', 'Iceland', 'Brazil']\n",
    "print(places)\n",
    "places.reverse()\n",
    "print(places)\n",
    "places.reverse()\n",
    "print(places)\n",
    "places.sort()\n",
    "print(places)\n",
    "places.sort(reverse=True)\n",
    "print(places)"
   ]
  },
  {
   "cell_type": "code",
   "execution_count": 86,
   "metadata": {},
   "outputs": [
    {
     "name": "stdout",
     "output_type": "stream",
     "text": [
      "There are 0 guests in the invite list.\n"
     ]
    }
   ],
   "source": [
    "# 3-9 Dinner Guests\n",
    "\n",
    "print(f'There are {str(len(invite))} guests in the invite list.')"
   ]
  },
  {
   "cell_type": "code",
   "execution_count": null,
   "metadata": {},
   "outputs": [],
   "source": []
  }
 ],
 "metadata": {
  "interpreter": {
   "hash": "aee8b7b246df8f9039afb4144a1f6fd8d2ca17a180786b69acc140d282b71a49"
  },
  "kernelspec": {
   "display_name": "Python 3.10.4 64-bit",
   "language": "python",
   "name": "python3"
  },
  "language_info": {
   "codemirror_mode": {
    "name": "ipython",
    "version": 3
   },
   "file_extension": ".py",
   "mimetype": "text/x-python",
   "name": "python",
   "nbconvert_exporter": "python",
   "pygments_lexer": "ipython3",
   "version": "3.10.4"
  },
  "orig_nbformat": 4
 },
 "nbformat": 4,
 "nbformat_minor": 2
}
